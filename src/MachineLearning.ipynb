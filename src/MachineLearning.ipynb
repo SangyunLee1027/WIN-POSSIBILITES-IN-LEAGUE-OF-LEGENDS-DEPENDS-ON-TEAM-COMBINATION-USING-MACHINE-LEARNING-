{
 "cells": [
  {
   "cell_type": "code",
   "execution_count": 45,
   "metadata": {},
   "outputs": [],
   "source": [
    "import numpy as np\n",
    "import sklearn\n",
    "from sklearn.neighbors import KNeighborsClassifier\n",
    "from sklearn import linear_model, preprocessing\n",
    "from sklearn.utils import shuffle\n",
    "import pandas as pd\n",
    "import pickle"
   ]
  },
  {
   "cell_type": "code",
   "execution_count": 46,
   "metadata": {},
   "outputs": [],
   "source": [
    "data = pd.read_csv(\"../Data/MatchData.csv\", sep= \",\")\n",
    "data = shuffle(data)\n",
    "predict = \"win\"\n",
    "le = preprocessing.LabelEncoder()\n",
    "Top1 = le.fit_transform(list(data['top1']))\n",
    "Jungle1 = le.fit_transform(list(data['jungle1']))\n",
    "Mid1 = le.fit_transform(list(data['mid1']))\n",
    "Bottom1 = le.fit_transform(list(data['bottom1']))\n",
    "Support1 = le.fit_transform(list(data['support1']))\n",
    "Top2 = le.fit_transform(list(data['top2']))\n",
    "Jungle2 = le.fit_transform(list(data['jungle2']))\n",
    "Mid2 = le.fit_transform(list(data['mid2']))\n",
    "Bottom2 = le.fit_transform(list(data['bottom2']))\n",
    "Support2 = le.fit_transform(list(data['support2']))"
   ]
  },
  {
   "cell_type": "code",
   "execution_count": 47,
   "metadata": {},
   "outputs": [],
   "source": [
    "x = list(zip(Top1, Jungle1, Mid1, Bottom1, Support1, Top2, Jungle2, Mid2, Bottom2, Support2))\n",
    "y = np.array(data[predict])"
   ]
  },
  {
   "cell_type": "code",
   "execution_count": 48,
   "metadata": {},
   "outputs": [
    {
     "name": "stdout",
     "output_type": "stream",
     "text": [
      "['0' '1' '0' '0' '1' '0' '0' '1' '0' '0' '0' '0' '1' '0' '0' '0' '0' '0'\n",
      " '0' '0' '0' '0' '0' '0' '1' '0' '1' '0' '0' '1' '0' '1' '0' '0' '1' '0'\n",
      " '0' '0' '1' '0' '1' '0' '1' '0' '0' '0' '0' '0' '0' '0' '1' '0' '0' '0'\n",
      " '0' '0' '0' '0' '1' '0' '1' '0']\n",
      "0.5806451612903226\n"
     ]
    }
   ],
   "source": [
    "best = 0\n",
    "for i in range(20):\n",
    "    x_train, x_test, y_train, y_test = sklearn.model_selection.train_test_split(x, y, test_size = 0.1)\n",
    "    model = KNeighborsClassifier(n_neighbors=2)\n",
    "    model.fit(x_train, y_train)\n",
    "    acc = model.score(x_test, y_test)\n",
    "\n",
    "    if acc > best:\n",
    "        best = acc\n",
    "        with open(\"studentgrades.pickle\", \"wb\") as f:\n",
    "            pickle.dump(model, f)\n",
    "\n",
    "pickle_in = open(\"studentgrades.pickle\", \"rb\")\n",
    "model = pickle.load(pickle_in)\n",
    "predicted = model.predict(x_test)\n",
    "print(predicted)\n",
    "print(best)"
   ]
  }
 ],
 "metadata": {
  "kernelspec": {
   "display_name": "Python 3.10.4 64-bit",
   "language": "python",
   "name": "python3"
  },
  "language_info": {
   "codemirror_mode": {
    "name": "ipython",
    "version": 3
   },
   "file_extension": ".py",
   "mimetype": "text/x-python",
   "name": "python",
   "nbconvert_exporter": "python",
   "pygments_lexer": "ipython3",
   "version": "3.10.4"
  },
  "orig_nbformat": 4,
  "vscode": {
   "interpreter": {
    "hash": "26de051ba29f2982a8de78e945f0abaf191376122a1563185a90213a26c5da77"
   }
  }
 },
 "nbformat": 4,
 "nbformat_minor": 2
}
